{
  "nbformat": 4,
  "nbformat_minor": 0,
  "metadata": {
    "colab": {
      "name": "landing-page-gan.ipynb",
      "version": "0.3.2",
      "provenance": [],
      "collapsed_sections": [],
      "include_colab_link": true
    },
    "kernelspec": {
      "name": "python3",
      "display_name": "Python 3"
    },
    "accelerator": "GPU"
  },
  "cells": [
    {
      "cell_type": "markdown",
      "metadata": {
        "id": "view-in-github",
        "colab_type": "text"
      },
      "source": [
        "<a href=\"https://colab.research.google.com/github/sajjad-shirazy/python-notebooks/blob/master/landing_page_gan.ipynb\" target=\"_parent\"><img src=\"https://colab.research.google.com/assets/colab-badge.svg\" alt=\"Open In Colab\"/></a>"
      ]
    },
    {
      "cell_type": "markdown",
      "metadata": {
        "id": "GGElWj6VsiIt",
        "colab_type": "text"
      },
      "source": [
        "# Landing page GAN (Generative Adversarial Networks)\n",
        "Sajjad Shirazy @ Stijlbreuk - 2019\n",
        "\n"
      ]
    },
    {
      "cell_type": "markdown",
      "metadata": {
        "id": "EAntePt6sZjm",
        "colab_type": "text"
      },
      "source": [
        "## Uploading data set from Google drive into the VM"
      ]
    },
    {
      "cell_type": "code",
      "metadata": {
        "id": "EG4hMblcsN6C",
        "colab_type": "code",
        "outputId": "09dc11bd-d575-4608-8b9b-8d5b40c585e4",
        "colab": {
          "base_uri": "https://localhost:8080/",
          "height": 87
        }
      },
      "source": [
        "# mounting google drive into this VM\n",
        "from google.colab import drive\n",
        "drive.mount('/content/gdrive')\n",
        "print('mounted ...');\n",
        "\n",
        "# unzipping the target\n",
        "import zipfile\n",
        "\n",
        "zip_ref = zipfile.ZipFile('/content/gdrive/My Drive/ML/1000-landing-pages.zip', 'r')\n",
        "zip_ref.extractall('/data/1000-landing-pages')\n",
        "zip_ref.close();\n",
        "print('unzipped ...');\n",
        "print('done');"
      ],
      "execution_count": 4,
      "outputs": [
        {
          "output_type": "stream",
          "text": [
            "Drive already mounted at /content/gdrive; to attempt to forcibly remount, call drive.mount(\"/content/gdrive\", force_remount=True).\n",
            "mounted ...\n",
            "unzipped ...\n",
            "done\n"
          ],
          "name": "stdout"
        }
      ]
    },
    {
      "cell_type": "code",
      "metadata": {
        "id": "bVMtINphuDIY",
        "colab_type": "code",
        "outputId": "2c092661-beba-47bc-f816-ed2c6b127606",
        "colab": {
          "base_uri": "https://localhost:8080/",
          "height": 87
        }
      },
      "source": [
        "# check if every thing is ok\n",
        "!ls /data/1000-landing-pages/ -U | head -4"
      ],
      "execution_count": 5,
      "outputs": [
        {
          "output_type": "stream",
          "text": [
            "5cac70f1194ca553458634.jpg\n",
            "5b0c017f8e74b.jpg\n",
            "586b69c3ea20f.jpg\n",
            "5cd2a04a1d317040955559.png\n"
          ],
          "name": "stdout"
        }
      ]
    },
    {
      "cell_type": "markdown",
      "metadata": {
        "id": "bnPN0Biqx5tL",
        "colab_type": "text"
      },
      "source": [
        "## Importing packages\n",
        "\n",
        "Let's start by importing required packages:\n",
        "\n",
        "*   os — to read files and directory structure\n",
        "*   numpy — for some matrix math outside of TensorFlow\n",
        "*   matplotlib.pyplot — to plot the graph and display images in our training and validation data\n",
        "\n",
        "For the TensorFlow imports, we directly specify Keras symbols (Sequential, Dense, etc.). This enables us to refer to these names directly in our code without having to qualify their full names (for example, `Dense` instead of `tf.keras.layer.Dense`).\n",
        "\n"
      ]
    },
    {
      "cell_type": "code",
      "metadata": {
        "id": "6sM7edBLN0T5",
        "colab_type": "code",
        "outputId": "38e594ac-bc76-4cd5-c1a4-6af38b80ba23",
        "colab": {
          "base_uri": "https://localhost:8080/",
          "height": 540
        }
      },
      "source": [
        "!pip install tensorflow-gpu==2.0.0-alpha0"
      ],
      "execution_count": 6,
      "outputs": [
        {
          "output_type": "stream",
          "text": [
            "Collecting tensorflow-gpu==2.0.0-alpha0\n",
            "\u001b[?25l  Downloading https://files.pythonhosted.org/packages/1a/66/32cffad095253219d53f6b6c2a436637bbe45ac4e7be0244557210dc3918/tensorflow_gpu-2.0.0a0-cp36-cp36m-manylinux1_x86_64.whl (332.1MB)\n",
            "\u001b[K     |████████████████████████████████| 332.1MB 33kB/s \n",
            "\u001b[?25hRequirement already satisfied: keras-applications>=1.0.6 in /usr/local/lib/python3.6/dist-packages (from tensorflow-gpu==2.0.0-alpha0) (1.0.7)\n",
            "Collecting tf-estimator-nightly<1.14.0.dev2019030116,>=1.14.0.dev2019030115 (from tensorflow-gpu==2.0.0-alpha0)\n",
            "\u001b[?25l  Downloading https://files.pythonhosted.org/packages/13/82/f16063b4eed210dc2ab057930ac1da4fbe1e91b7b051a6c8370b401e6ae7/tf_estimator_nightly-1.14.0.dev2019030115-py2.py3-none-any.whl (411kB)\n",
            "\u001b[K     |████████████████████████████████| 419kB 38.3MB/s \n",
            "\u001b[?25hRequirement already satisfied: wheel>=0.26 in /usr/local/lib/python3.6/dist-packages (from tensorflow-gpu==2.0.0-alpha0) (0.33.1)\n",
            "Requirement already satisfied: termcolor>=1.1.0 in /usr/local/lib/python3.6/dist-packages (from tensorflow-gpu==2.0.0-alpha0) (1.1.0)\n",
            "Requirement already satisfied: keras-preprocessing>=1.0.5 in /usr/local/lib/python3.6/dist-packages (from tensorflow-gpu==2.0.0-alpha0) (1.0.9)\n",
            "Requirement already satisfied: grpcio>=1.8.6 in /usr/local/lib/python3.6/dist-packages (from tensorflow-gpu==2.0.0-alpha0) (1.15.0)\n",
            "Requirement already satisfied: numpy<2.0,>=1.14.5 in /usr/local/lib/python3.6/dist-packages (from tensorflow-gpu==2.0.0-alpha0) (1.16.3)\n",
            "Collecting tb-nightly<1.14.0a20190302,>=1.14.0a20190301 (from tensorflow-gpu==2.0.0-alpha0)\n",
            "\u001b[?25l  Downloading https://files.pythonhosted.org/packages/a9/51/aa1d756644bf4624c03844115e4ac4058eff77acd786b26315f051a4b195/tb_nightly-1.14.0a20190301-py3-none-any.whl (3.0MB)\n",
            "\u001b[K     |████████████████████████████████| 3.0MB 19.4MB/s \n",
            "\u001b[?25hRequirement already satisfied: gast>=0.2.0 in /usr/local/lib/python3.6/dist-packages (from tensorflow-gpu==2.0.0-alpha0) (0.2.2)\n",
            "Requirement already satisfied: six>=1.10.0 in /usr/local/lib/python3.6/dist-packages (from tensorflow-gpu==2.0.0-alpha0) (1.12.0)\n",
            "Requirement already satisfied: astor>=0.6.0 in /usr/local/lib/python3.6/dist-packages (from tensorflow-gpu==2.0.0-alpha0) (0.7.1)\n",
            "Requirement already satisfied: absl-py>=0.7.0 in /usr/local/lib/python3.6/dist-packages (from tensorflow-gpu==2.0.0-alpha0) (0.7.1)\n",
            "Collecting google-pasta>=0.1.2 (from tensorflow-gpu==2.0.0-alpha0)\n",
            "\u001b[?25l  Downloading https://files.pythonhosted.org/packages/f9/68/a14620bfb042691f532dcde8576ff82ee82e4c003cdc0a3dbee5f289cee6/google_pasta-0.1.6-py3-none-any.whl (51kB)\n",
            "\u001b[K     |████████████████████████████████| 61kB 23.1MB/s \n",
            "\u001b[?25hRequirement already satisfied: protobuf>=3.6.1 in /usr/local/lib/python3.6/dist-packages (from tensorflow-gpu==2.0.0-alpha0) (3.7.1)\n",
            "Requirement already satisfied: h5py in /usr/local/lib/python3.6/dist-packages (from keras-applications>=1.0.6->tensorflow-gpu==2.0.0-alpha0) (2.8.0)\n",
            "Requirement already satisfied: werkzeug>=0.11.15 in /usr/local/lib/python3.6/dist-packages (from tb-nightly<1.14.0a20190302,>=1.14.0a20190301->tensorflow-gpu==2.0.0-alpha0) (0.15.2)\n",
            "Requirement already satisfied: markdown>=2.6.8 in /usr/local/lib/python3.6/dist-packages (from tb-nightly<1.14.0a20190302,>=1.14.0a20190301->tensorflow-gpu==2.0.0-alpha0) (3.1)\n",
            "Requirement already satisfied: setuptools in /usr/local/lib/python3.6/dist-packages (from protobuf>=3.6.1->tensorflow-gpu==2.0.0-alpha0) (41.0.1)\n",
            "Installing collected packages: tf-estimator-nightly, tb-nightly, google-pasta, tensorflow-gpu\n",
            "Successfully installed google-pasta-0.1.6 tb-nightly-1.14.0a20190301 tensorflow-gpu-2.0.0a0 tf-estimator-nightly-1.14.0.dev2019030115\n"
          ],
          "name": "stdout"
        }
      ]
    },
    {
      "cell_type": "code",
      "metadata": {
        "id": "z6SeZrCavisf",
        "colab_type": "code",
        "colab": {}
      },
      "source": [
        "import os\n",
        "import matplotlib.pyplot as plt\n",
        "import numpy as np\n",
        "\n",
        "import tensorflow as tf\n",
        "from tensorflow.keras.preprocessing.image import ImageDataGenerator\n",
        "from tensorflow.keras import layers\n",
        "# tf.logging.set_verbosity(tf.logging.ERROR)\n",
        "from tensorflow.keras.layers import Input, Dense, Reshape, Flatten, Dropout\n",
        "from tensorflow.keras.layers import BatchNormalization, Activation, ZeroPadding2D\n",
        "from tensorflow.keras.layers import LeakyReLU\n",
        "from tensorflow.keras.layers import UpSampling2D, Conv2D\n",
        "from tensorflow.keras.models import Sequential, Model\n",
        "from tensorflow.keras.optimizers import Adam"
      ],
      "execution_count": 0,
      "outputs": []
    },
    {
      "cell_type": "markdown",
      "metadata": {
        "id": "wQm5BDZ5xsU5",
        "colab_type": "text"
      },
      "source": [
        "## Setting Model Parameters"
      ]
    },
    {
      "cell_type": "code",
      "metadata": {
        "id": "oYTkI3Y3xwn_",
        "colab_type": "code",
        "colab": {}
      },
      "source": [
        "BATCH_SIZE = 64  # Number of training examples to process before updating our models variables\n",
        "IMG_SHAPE_W  = 28  # Our training data consists of images with width of 320 pixels\n",
        "IMG_SHAPE_H  = 28  # Our training data consists of images with height of 240 pixels\n",
        "IMG_SHAPE_C  = 3  # CHANELS\n",
        "latent_dim = 100;\n",
        "img_shape = (IMG_SHAPE_W, IMG_SHAPE_H, IMG_SHAPE_C)"
      ],
      "execution_count": 0,
      "outputs": []
    },
    {
      "cell_type": "markdown",
      "metadata": {
        "id": "Y-WRtWc9vdPw",
        "colab_type": "text"
      },
      "source": [
        "## Data Preparation\n",
        "Images must be formatted into appropriately pre-processed floating point tensors before being fed into the network. The steps involved in preparing these images are:\n",
        "\n",
        "1. Read images from the disk\n",
        "2. Decode contents of these images and convert it into proper grid format as per their RGB content\n",
        "3. Convert them into floating point tensors\n",
        "4. Rescale the tensors from values between 0 and 255 to values between 0 and 1, as neural networks prefer to deal with small input values.\n",
        "\n",
        "Fortunately, all these tasks can be done using the class **tf.keras.preprocessing.image.ImageDataGenerator**."
      ]
    },
    {
      "cell_type": "code",
      "metadata": {
        "id": "qd-zzxkMxmGD",
        "colab_type": "code",
        "outputId": "c7c52a5f-9a20-42b6-cf7b-057735973a2a",
        "colab": {
          "base_uri": "https://localhost:8080/",
          "height": 35
        }
      },
      "source": [
        "train_image_generator = ImageDataGenerator(rescale=1./255)  # Generator for our training data\n",
        "train_data_gen = train_image_generator.flow_from_directory(\n",
        "    batch_size=BATCH_SIZE, \n",
        "    directory='/data/', \n",
        "    shuffle=True, \n",
        "    target_size=(IMG_SHAPE_W, IMG_SHAPE_H), #(150,150)\n",
        "    class_mode='binary'\n",
        ")"
      ],
      "execution_count": 49,
      "outputs": [
        {
          "output_type": "stream",
          "text": [
            "Found 986 images belonging to 1 classes.\n"
          ],
          "name": "stdout"
        }
      ]
    },
    {
      "cell_type": "markdown",
      "metadata": {
        "id": "yI3AuJanzhSm",
        "colab_type": "text"
      },
      "source": [
        "### Visualizing Training images\n",
        "We can visualize our training images by getting a batch of images from the training generator, and then plotting a few of them using matplotlib."
      ]
    },
    {
      "cell_type": "code",
      "metadata": {
        "id": "wtiwJRGezkbX",
        "colab_type": "code",
        "outputId": "6eff4268-93f9-4e36-b302-0b30df9a78f8",
        "colab": {
          "base_uri": "https://localhost:8080/",
          "height": 323
        }
      },
      "source": [
        "# This function will plot images in the form of a grid with 1 row and 5 columns where images are placed in each column.\n",
        "def plotImages(images_arr):\n",
        "    fig, axes = plt.subplots(1, 5, figsize=(20,20))\n",
        "    axes = axes.flatten()\n",
        "    for img, ax in zip( images_arr, axes):\n",
        "        ax.imshow(img)\n",
        "    plt.tight_layout()\n",
        "    plt.show()\n",
        "\n",
        "sample_training_images, _ = next(train_data_gen)     \n",
        "plotImages(sample_training_images[:5])  # Plot images 0-4"
      ],
      "execution_count": 50,
      "outputs": [
        {
          "output_type": "display_data",
          "data": {
            "image/png": "[encoded data removed]",
            "text/plain": [
              "<Figure size 1440x1440 with 5 Axes>"
            ]
          },
          "metadata": {
            "tags": []
          }
        }
      ]
    },
    {
      "cell_type": "markdown",
      "metadata": {
        "id": "yWJaozA5zxf0",
        "colab_type": "text"
      },
      "source": [
        "The next function returns a batch from the dataset. One batch is a tuple of (many images, many labels). For right now, we're discarding the labels because we just want to look at the images."
      ]
    },
    {
      "cell_type": "markdown",
      "metadata": {
        "id": "-a8Kei58SLLs",
        "colab_type": "text"
      },
      "source": [
        "## Create the models\n",
        "\n",
        "Both the generator and discriminator are defined using the [Keras Sequential API](https://www.tensorflow.org/guide/keras#sequential_model)."
      ]
    },
    {
      "cell_type": "markdown",
      "metadata": {
        "id": "Q5W-mHcTSYv9",
        "colab_type": "text"
      },
      "source": [
        "### The Generator\n",
        "\n",
        "The generator uses `tf.keras.layers.Conv2DTranspose` (upsampling) layers to produce an image from a seed (random noise). Start with a `Dense` layer that takes this seed as input, then upsample several times until you reach the desired image size of 28x28x1. Notice the `tf.keras.layers.LeakyReLU` activation for each layer, except the output layer which uses tanh."
      ]
    },
    {
      "cell_type": "code",
      "metadata": {
        "id": "v1oBwVFpSKH5",
        "colab_type": "code",
        "colab": {}
      },
      "source": [
        "def make_generator_model():\n",
        "    model = tf.keras.Sequential()\n",
        "#     model.add(layers.Dense(7*7*256, use_bias=False, input_shape=(100,)))\n",
        "#     model.add(layers.BatchNormalization())\n",
        "#     model.add(layers.LeakyReLU())\n",
        "\n",
        "#     model.add(layers.Reshape((7, 7, 256)))\n",
        "#     assert model.output_shape == (None, 7, 7, 256) # Note: None is the batch size\n",
        "\n",
        "#     model.add(layers.Conv2DTranspose(128, (5, 5), strides=(1, 1), padding='same', use_bias=False))\n",
        "#     assert model.output_shape == (None, 7, 7, 128)\n",
        "#     model.add(layers.BatchNormalization())\n",
        "#     model.add(layers.LeakyReLU())\n",
        "\n",
        "#     model.add(layers.Conv2DTranspose(64, (5, 5), strides=(2, 2), padding='same', use_bias=False))\n",
        "#     assert model.output_shape == (None, 14, 14, 64)\n",
        "#     model.add(layers.BatchNormalization())\n",
        "#     model.add(layers.LeakyReLU())\n",
        "\n",
        "#     model.add(layers.Conv2DTranspose(1, (5, 5), strides=(2, 2), padding='same', use_bias=False, activation='tanh'))\n",
        "#     assert model.output_shape == (None, IMG_SHAPE_W, IMG_SHAPE_H, 1)\n",
        "\n",
        "#     return model\n",
        "    model.add(Dense(256, input_dim=latent_dim))\n",
        "    model.add(LeakyReLU(alpha=0.2))\n",
        "    model.add(BatchNormalization(momentum=0.8))\n",
        "    model.add(Dense(512))\n",
        "    model.add(LeakyReLU(alpha=0.2))\n",
        "    model.add(BatchNormalization(momentum=0.8))\n",
        "    model.add(Dense(1024))\n",
        "    model.add(LeakyReLU(alpha=0.2))\n",
        "    model.add(BatchNormalization(momentum=0.8))\n",
        "    model.add(Dense(np.prod(img_shape), activation='tanh'))\n",
        "    model.add(Reshape(img_shape))\n",
        "    model.summary()\n",
        "    noise = Input(shape=(latent_dim,))\n",
        "    img = model(noise)\n",
        "    return Model(noise, img)"
      ],
      "execution_count": 0,
      "outputs": []
    },
    {
      "cell_type": "markdown",
      "metadata": {
        "colab_type": "text",
        "id": "GyWgG09LCSJl"
      },
      "source": [
        "Use the (as yet untrained) generator to create an image."
      ]
    },
    {
      "cell_type": "code",
      "metadata": {
        "id": "mNXn3lYzUicK",
        "colab_type": "code",
        "outputId": "df98abbf-967a-48a3-8127-4be18ab9004e",
        "colab": {
          "base_uri": "https://localhost:8080/",
          "height": 807
        }
      },
      "source": [
        "generator = make_generator_model()\n",
        "\n",
        "noise = tf.random.normal([1, latent_dim])\n",
        "generated_image = generator(noise, training=False)\n",
        "\n",
        "plt.imshow(generated_image[0, :, :, 0])"
      ],
      "execution_count": 52,
      "outputs": [
        {
          "output_type": "stream",
          "text": [
            "Model: \"sequential_2\"\n",
            "_________________________________________________________________\n",
            "Layer (type)                 Output Shape              Param #   \n",
            "=================================================================\n",
            "dense_7 (Dense)              (None, 256)               25856     \n",
            "_________________________________________________________________\n",
            "leaky_re_lu_5 (LeakyReLU)    (None, 256)               0         \n",
            "_________________________________________________________________\n",
            "batch_normalization_v2_3 (Ba (None, 256)               1024      \n",
            "_________________________________________________________________\n",
            "dense_8 (Dense)              (None, 512)               131584    \n",
            "_________________________________________________________________\n",
            "leaky_re_lu_6 (LeakyReLU)    (None, 512)               0         \n",
            "_________________________________________________________________\n",
            "batch_normalization_v2_4 (Ba (None, 512)               2048      \n",
            "_________________________________________________________________\n",
            "dense_9 (Dense)              (None, 1024)              525312    \n",
            "_________________________________________________________________\n",
            "leaky_re_lu_7 (LeakyReLU)    (None, 1024)              0         \n",
            "_________________________________________________________________\n",
            "batch_normalization_v2_5 (Ba (None, 1024)              4096      \n",
            "_________________________________________________________________\n",
            "dense_10 (Dense)             (None, 2352)              2410800   \n",
            "_________________________________________________________________\n",
            "reshape_1 (Reshape)          (None, 28, 28, 3)         0         \n",
            "=================================================================\n",
            "Total params: 3,100,720\n",
            "Trainable params: 3,097,136\n",
            "Non-trainable params: 3,584\n",
            "_________________________________________________________________\n"
          ],
          "name": "stdout"
        },
        {
          "output_type": "execute_result",
          "data": {
            "text/plain": [
              "<matplotlib.image.AxesImage at 0x7f3fbd3986d8>"
            ]
          },
          "metadata": {
            "tags": []
          },
          "execution_count": 52
        },
        {
          "output_type": "display_data",
          "data": {
            "image/png": "[encoded data removed]",
            "text/plain": [
              "<Figure size 432x288 with 1 Axes>"
            ]
          },
          "metadata": {
            "tags": []
          }
        }
      ]
    },
    {
      "cell_type": "markdown",
      "metadata": {
        "colab_type": "text",
        "id": "D0IKnaCtg6WE"
      },
      "source": [
        "### The Discriminator\n",
        "\n",
        "The discriminator is a CNN-based image classifier."
      ]
    },
    {
      "cell_type": "code",
      "metadata": {
        "id": "wgOUGJCFrArv",
        "colab_type": "code",
        "colab": {}
      },
      "source": [
        "def make_discriminator_model():\n",
        "#     model = tf.keras.Sequential()\n",
        "#     model.add(layers.Conv2D(64, (5, 5), strides=(2, 2), padding='same',\n",
        "#                                      input_shape=[28, 28, 1]))\n",
        "#     model.add(layers.LeakyReLU())\n",
        "#     model.add(layers.Dropout(0.3))\n",
        "\n",
        "#     model.add(layers.Conv2D(128, (5, 5), strides=(2, 2), padding='same'))\n",
        "#     model.add(layers.LeakyReLU())\n",
        "#     model.add(layers.Dropout(0.3))\n",
        "\n",
        "#     model.add(layers.Flatten())\n",
        "#     model.add(layers.Dense(1))\n",
        "#     return model\n",
        "    model = Sequential()\n",
        "\n",
        "    model.add(Flatten(input_shape=img_shape))\n",
        "    model.add(Dense(512))\n",
        "    model.add(LeakyReLU(alpha=0.2))\n",
        "    model.add(Dense(256))\n",
        "    model.add(LeakyReLU(alpha=0.2))\n",
        "    model.add(Dense(1, activation='sigmoid'))\n",
        "    model.summary()\n",
        "\n",
        "    img = Input(shape=img_shape)\n",
        "    validity = model(img)\n",
        "\n",
        "    return Model(img, validity)"
      ],
      "execution_count": 0,
      "outputs": []
    },
    {
      "cell_type": "markdown",
      "metadata": {
        "colab_type": "text",
        "id": "QhPneagzCaQv"
      },
      "source": [
        "Use the (as yet untrained) discriminator to classify the generated images as real or fake. The model will be trained to output positive values for real images, and negative values for fake images."
      ]
    },
    {
      "cell_type": "code",
      "metadata": {
        "id": "lLusTZDwrKaI",
        "colab_type": "code",
        "outputId": "0ac8d80a-0e64-4c8d-c42f-d5fcb254fd69",
        "colab": {
          "base_uri": "https://localhost:8080/",
          "height": 381
        }
      },
      "source": [
        "discriminator = make_discriminator_model()\n",
        "decision = discriminator(generated_image)\n",
        "print (decision)"
      ],
      "execution_count": 54,
      "outputs": [
        {
          "output_type": "stream",
          "text": [
            "Model: \"sequential_3\"\n",
            "_________________________________________________________________\n",
            "Layer (type)                 Output Shape              Param #   \n",
            "=================================================================\n",
            "flatten_1 (Flatten)          (None, 2352)              0         \n",
            "_________________________________________________________________\n",
            "dense_11 (Dense)             (None, 512)               1204736   \n",
            "_________________________________________________________________\n",
            "leaky_re_lu_8 (LeakyReLU)    (None, 512)               0         \n",
            "_________________________________________________________________\n",
            "dense_12 (Dense)             (None, 256)               131328    \n",
            "_________________________________________________________________\n",
            "leaky_re_lu_9 (LeakyReLU)    (None, 256)               0         \n",
            "_________________________________________________________________\n",
            "dense_13 (Dense)             (None, 1)                 257       \n",
            "=================================================================\n",
            "Total params: 1,336,321\n",
            "Trainable params: 1,336,321\n",
            "Non-trainable params: 0\n",
            "_________________________________________________________________\n",
            "tf.Tensor([[0.5608148]], shape=(1, 1), dtype=float32)\n"
          ],
          "name": "stdout"
        }
      ]
    },
    {
      "cell_type": "markdown",
      "metadata": {
        "id": "ctoybJFYQxtY",
        "colab_type": "text"
      },
      "source": [
        "## Compiling models"
      ]
    },
    {
      "cell_type": "code",
      "metadata": {
        "id": "QLVCbP1uQ2Qo",
        "colab_type": "code",
        "colab": {}
      },
      "source": [
        "optimizer = Adam(0.0002, 0.5)\n",
        "# Build and compile the discriminator\n",
        "discriminator.compile(loss='binary_crossentropy',\n",
        "    optimizer=optimizer,\n",
        "    metrics=['accuracy'])\n",
        "\n",
        "# The generator takes noise as input and generates imgs\n",
        "z = Input(shape=(latent_dim,))\n",
        "img = generator(z)\n",
        "\n",
        "# For the combined model we will only train the generator\n",
        "discriminator.trainable = False\n",
        "\n",
        "# The discriminator takes generated images as input and determines validity\n",
        "validity = discriminator(img)\n",
        "\n",
        "# The combined model  (stacked generator and discriminator)\n",
        "# Trains the generator to fool the discriminator\n",
        "combined = Model(z, validity)\n",
        "combined.compile(loss='binary_crossentropy', optimizer=optimizer)"
      ],
      "execution_count": 0,
      "outputs": []
    },
    {
      "cell_type": "code",
      "metadata": {
        "id": "ntXXfxikSnbG",
        "colab_type": "code",
        "colab": {}
      },
      "source": [
        "def train(epochs, batch_size=128, sample_interval=50):\n",
        "\n",
        "        # Load the dataset\n",
        "#         (X_train, _), (_, _) = mnist.load_data()\n",
        "\n",
        "      # Rescale -1 to 1\n",
        "#         X_train = X_train / 127.5 - 1.\n",
        "#         X_train = np.expand_dims(X_train, axis=3)\n",
        "\n",
        "      # Adversarial ground truths\n",
        "    valid = np.ones((batch_size, 1))\n",
        "    fake = np.zeros((batch_size, 1))\n",
        "\n",
        "    for epoch in range(epochs):\n",
        "\n",
        "          # ---------------------\n",
        "          #  Train Discriminator\n",
        "          # ---------------------\n",
        "\n",
        "            # Select a random batch of images\n",
        "  #             idx = np.random.randint(0, X_train.shape[0], batch_size)\n",
        "  #             imgs = X_train[idx]\n",
        "      if (((train_data_gen.batch_index + 1) * batch_size) > len(train_data_gen.filenames)) :\n",
        "        train_data_gen.batch_index = 0;\n",
        "      imgs, _ = next(train_data_gen) \n",
        "#       print(train_data_gen.batch_index);\n",
        "#       print(len(train_data_gen.filenames));\n",
        "#       imgs = imgs[0]\n",
        "\n",
        "      noise = np.random.normal(0, 1, (batch_size, latent_dim))\n",
        "\n",
        "      # Generate a batch of new images\n",
        "      gen_imgs = generator.predict(noise)\n",
        "\n",
        "\n",
        "      # Train the discriminator\n",
        "      d_loss_real = discriminator.train_on_batch(imgs, valid)\n",
        "      d_loss_fake = discriminator.train_on_batch(gen_imgs, fake)\n",
        "      d_loss = 0.5 * np.add(d_loss_real, d_loss_fake)\n",
        "\n",
        "      # ---------------------\n",
        "      #  Train Generator\n",
        "      # ---------------------\n",
        "\n",
        "      noise = np.random.normal(0, 1, (batch_size, latent_dim))\n",
        "\n",
        "      # Train the generator (to have the discriminator label samples as valid)\n",
        "      g_loss = combined.train_on_batch(noise, valid)\n",
        "      # Plot the progress\n",
        "      print (\"%d [D loss: %f, acc.: %.2f%%] [G loss: %f]\" % (epoch, d_loss[0], 100*d_loss[1], g_loss))\n",
        "\n",
        "    # If at save interval => save generated image samples\n",
        "#       if epoch % sample_interval == 0:\n",
        "#           sample_images(epoch)\n",
        "\n",
        "def sample_images(epoch):\n",
        "    print('adasdasd');\n",
        "    r, c = 5, 5\n",
        "#     noise = np.random.normal(0, 1, (r * c, latent_dim))\n",
        "    noise = tf.random.normal([1, latent_dim])\n",
        "    gen_imgs = generator.predict(noise)\n",
        "    plt.imshow(gen_imgs[0, :, :, 0])\n",
        "    plt.close()\n",
        "\n",
        "    # Rescale images 0 - 1\n",
        "#     gen_imgs = 0.5 * gen_imgs + 0.5\n",
        "\n",
        "#     fig, axs = plt.subplots(r, c)\n",
        "#     cnt = 0\n",
        "#     for i in range(r):\n",
        "#         for j in range(c):\n",
        "#             axs[i,j].imshow(gen_imgs[cnt, :,:,0], cmap='gray')\n",
        "#             axs[i,j].axis('off')\n",
        "#             cnt += 1\n",
        "#     plt.close()"
      ],
      "execution_count": 0,
      "outputs": []
    },
    {
      "cell_type": "code",
      "metadata": {
        "id": "ajS1jJcKUu8J",
        "colab_type": "code",
        "outputId": "e8ecee7c-35cc-414f-c214-c9eb03162a2c",
        "colab": {
          "base_uri": "https://localhost:8080/",
          "height": 8739
        }
      },
      "source": [
        "train(epochs=500, batch_size=BATCH_SIZE, sample_interval=10)"
      ],
      "execution_count": 58,
      "outputs": [
        {
          "output_type": "stream",
          "text": [
            "/usr/local/lib/python3.6/dist-packages/PIL/Image.py:914: UserWarning: Palette images with Transparency   expressed in bytes should be converted to RGBA images\n",
            "  'to RGBA images')\n"
          ],
          "name": "stderr"
        },
        {
          "output_type": "stream",
          "text": [
            "0 [D loss: 0.193060, acc.: 98.44%] [G loss: 1.394546]\n",
            "1 [D loss: 0.188617, acc.: 98.44%] [G loss: 1.534960]\n",
            "2 [D loss: 0.181363, acc.: 97.66%] [G loss: 1.643794]\n",
            "3 [D loss: 0.179421, acc.: 97.66%] [G loss: 1.796298]\n",
            "4 [D loss: 0.136645, acc.: 100.00%] [G loss: 2.063348]\n",
            "5 [D loss: 0.139016, acc.: 97.66%] [G loss: 2.089296]\n",
            "6 [D loss: 0.110410, acc.: 99.22%] [G loss: 2.205603]\n",
            "7 [D loss: 0.124116, acc.: 96.88%] [G loss: 2.378851]\n",
            "8 [D loss: 0.080380, acc.: 100.00%] [G loss: 2.475551]\n",
            "9 [D loss: 0.105778, acc.: 96.88%] [G loss: 2.596836]\n",
            "10 [D loss: 0.079090, acc.: 99.22%] [G loss: 2.630761]\n",
            "11 [D loss: 0.104242, acc.: 97.66%] [G loss: 2.666892]\n",
            "12 [D loss: 0.100795, acc.: 98.44%] [G loss: 2.725355]\n",
            "13 [D loss: 0.075659, acc.: 100.00%] [G loss: 2.681191]\n",
            "14 [D loss: 0.070504, acc.: 98.44%] [G loss: 2.785268]\n",
            "15 [D loss: 0.072887, acc.: 100.00%] [G loss: 2.860280]\n",
            "16 [D loss: 0.087376, acc.: 98.44%] [G loss: 2.908003]\n",
            "17 [D loss: 0.061840, acc.: 100.00%] [G loss: 2.996958]\n",
            "18 [D loss: 0.045575, acc.: 100.00%] [G loss: 3.180880]\n",
            "19 [D loss: 0.055867, acc.: 99.22%] [G loss: 3.238590]\n",
            "20 [D loss: 0.062456, acc.: 98.44%] [G loss: 3.215913]\n",
            "21 [D loss: 0.066248, acc.: 99.22%] [G loss: 3.159730]\n",
            "22 [D loss: 0.066026, acc.: 97.66%] [G loss: 3.209707]\n",
            "23 [D loss: 0.064233, acc.: 98.44%] [G loss: 3.258880]\n",
            "24 [D loss: 0.047603, acc.: 99.22%] [G loss: 3.255651]\n",
            "25 [D loss: 0.056697, acc.: 99.22%] [G loss: 3.310030]\n",
            "26 [D loss: 0.044233, acc.: 100.00%] [G loss: 3.321148]\n",
            "27 [D loss: 0.062575, acc.: 97.66%] [G loss: 3.304865]\n",
            "28 [D loss: 0.040444, acc.: 100.00%] [G loss: 3.332483]\n",
            "29 [D loss: 0.066636, acc.: 98.44%] [G loss: 3.386311]\n",
            "30 [D loss: 0.064874, acc.: 99.22%] [G loss: 3.360612]\n",
            "31 [D loss: 0.045944, acc.: 98.44%] [G loss: 3.488806]\n",
            "32 [D loss: 0.043578, acc.: 99.22%] [G loss: 3.597456]\n",
            "33 [D loss: 0.068211, acc.: 97.66%] [G loss: 3.611795]\n",
            "34 [D loss: 0.043576, acc.: 99.22%] [G loss: 3.623727]\n",
            "35 [D loss: 0.031987, acc.: 100.00%] [G loss: 3.594454]\n",
            "36 [D loss: 0.050599, acc.: 100.00%] [G loss: 3.624958]\n",
            "37 [D loss: 0.049263, acc.: 100.00%] [G loss: 3.693604]\n",
            "38 [D loss: 0.048456, acc.: 99.22%] [G loss: 3.707636]\n",
            "39 [D loss: 0.052180, acc.: 99.22%] [G loss: 3.741885]\n",
            "40 [D loss: 0.073589, acc.: 96.09%] [G loss: 3.730810]\n",
            "41 [D loss: 0.031416, acc.: 100.00%] [G loss: 3.805558]\n",
            "42 [D loss: 0.051953, acc.: 100.00%] [G loss: 3.786512]\n",
            "43 [D loss: 0.031861, acc.: 100.00%] [G loss: 3.784308]\n",
            "44 [D loss: 0.048714, acc.: 99.22%] [G loss: 3.709584]\n",
            "45 [D loss: 0.066254, acc.: 98.44%] [G loss: 3.854299]\n",
            "46 [D loss: 0.062080, acc.: 97.66%] [G loss: 3.787353]\n",
            "47 [D loss: 0.047163, acc.: 99.22%] [G loss: 3.908901]\n",
            "48 [D loss: 0.044549, acc.: 100.00%] [G loss: 3.965729]\n",
            "49 [D loss: 0.064748, acc.: 98.44%] [G loss: 3.867079]\n",
            "50 [D loss: 0.069613, acc.: 99.22%] [G loss: 3.846309]\n",
            "51 [D loss: 0.040112, acc.: 100.00%] [G loss: 3.913206]\n",
            "52 [D loss: 0.048104, acc.: 100.00%] [G loss: 3.950049]\n",
            "53 [D loss: 0.045802, acc.: 98.44%] [G loss: 3.984913]\n",
            "54 [D loss: 0.062255, acc.: 97.66%] [G loss: 4.072726]\n",
            "55 [D loss: 0.082764, acc.: 96.88%] [G loss: 4.022515]\n",
            "56 [D loss: 0.051483, acc.: 100.00%] [G loss: 4.008991]\n",
            "57 [D loss: 0.059744, acc.: 98.44%] [G loss: 4.036148]\n",
            "58 [D loss: 0.068421, acc.: 98.44%] [G loss: 4.148083]\n",
            "59 [D loss: 0.039703, acc.: 100.00%] [G loss: 4.014149]\n",
            "60 [D loss: 0.074179, acc.: 97.66%] [G loss: 4.088737]\n",
            "61 [D loss: 0.032461, acc.: 100.00%] [G loss: 4.222327]\n",
            "62 [D loss: 0.072366, acc.: 98.44%] [G loss: 4.463941]\n",
            "63 [D loss: 0.043465, acc.: 100.00%] [G loss: 4.341496]\n",
            "64 [D loss: 0.109887, acc.: 96.09%] [G loss: 4.094817]\n",
            "65 [D loss: 0.079255, acc.: 98.44%] [G loss: 4.411815]\n",
            "66 [D loss: 0.106420, acc.: 96.88%] [G loss: 4.532448]\n",
            "67 [D loss: 0.074741, acc.: 97.66%] [G loss: 4.242760]\n",
            "68 [D loss: 0.177351, acc.: 92.97%] [G loss: 5.374312]\n",
            "69 [D loss: 0.194156, acc.: 92.19%] [G loss: 4.222302]\n",
            "70 [D loss: 0.154753, acc.: 92.97%] [G loss: 4.769114]\n",
            "71 [D loss: 0.089986, acc.: 97.66%] [G loss: 4.566111]\n",
            "72 [D loss: 0.167545, acc.: 93.75%] [G loss: 4.201546]\n",
            "73 [D loss: 0.091135, acc.: 96.88%] [G loss: 4.252925]\n",
            "74 [D loss: 0.128004, acc.: 95.31%] [G loss: 3.907343]\n",
            "75 [D loss: 0.118312, acc.: 96.09%] [G loss: 4.074013]\n",
            "76 [D loss: 0.075279, acc.: 98.44%] [G loss: 4.623041]\n",
            "77 [D loss: 0.265987, acc.: 88.28%] [G loss: 6.048727]\n",
            "78 [D loss: 0.727123, acc.: 71.09%] [G loss: 4.177947]\n",
            "79 [D loss: 0.314396, acc.: 84.38%] [G loss: 4.651314]\n",
            "80 [D loss: 0.205509, acc.: 92.19%] [G loss: 5.325356]\n",
            "81 [D loss: 0.063368, acc.: 98.44%] [G loss: 5.111893]\n",
            "82 [D loss: 0.068962, acc.: 98.44%] [G loss: 4.749181]\n",
            "83 [D loss: 0.084791, acc.: 97.66%] [G loss: 4.473596]\n",
            "84 [D loss: 0.152210, acc.: 91.41%] [G loss: 4.346462]\n",
            "85 [D loss: 0.199527, acc.: 91.41%] [G loss: 3.970536]\n",
            "86 [D loss: 0.157348, acc.: 94.53%] [G loss: 3.984314]\n",
            "87 [D loss: 0.117324, acc.: 97.66%] [G loss: 4.110933]\n",
            "88 [D loss: 0.242126, acc.: 88.28%] [G loss: 3.983149]\n",
            "89 [D loss: 0.265645, acc.: 87.50%] [G loss: 3.966280]\n",
            "90 [D loss: 0.274898, acc.: 87.50%] [G loss: 3.889586]\n",
            "91 [D loss: 0.151279, acc.: 96.09%] [G loss: 3.766754]\n",
            "92 [D loss: 0.221529, acc.: 92.97%] [G loss: 4.379125]\n",
            "93 [D loss: 0.244070, acc.: 89.84%] [G loss: 4.226585]\n",
            "94 [D loss: 0.157812, acc.: 93.75%] [G loss: 4.075424]\n",
            "95 [D loss: 0.186147, acc.: 92.97%] [G loss: 3.487966]\n",
            "96 [D loss: 0.194929, acc.: 91.41%] [G loss: 3.932076]\n",
            "97 [D loss: 0.232980, acc.: 90.62%] [G loss: 4.484371]\n",
            "98 [D loss: 0.435574, acc.: 75.00%] [G loss: 3.448124]\n",
            "99 [D loss: 0.166186, acc.: 92.19%] [G loss: 4.203310]\n",
            "100 [D loss: 0.185977, acc.: 92.97%] [G loss: 3.994913]\n",
            "101 [D loss: 0.206950, acc.: 92.97%] [G loss: 3.649710]\n",
            "102 [D loss: 0.221819, acc.: 89.06%] [G loss: 4.183558]\n",
            "103 [D loss: 0.239555, acc.: 89.06%] [G loss: 4.339381]\n",
            "104 [D loss: 0.240438, acc.: 93.75%] [G loss: 4.170692]\n",
            "105 [D loss: 0.314672, acc.: 86.72%] [G loss: 5.871475]\n",
            "106 [D loss: 0.303622, acc.: 83.59%] [G loss: 4.266654]\n",
            "107 [D loss: 0.231809, acc.: 89.06%] [G loss: 5.040264]\n",
            "108 [D loss: 0.214471, acc.: 92.19%] [G loss: 4.380857]\n",
            "109 [D loss: 0.196178, acc.: 91.41%] [G loss: 4.105122]\n",
            "110 [D loss: 0.271252, acc.: 88.28%] [G loss: 3.874800]\n",
            "111 [D loss: 0.359510, acc.: 77.34%] [G loss: 4.785962]\n",
            "112 [D loss: 0.725764, acc.: 62.50%] [G loss: 3.034416]\n",
            "113 [D loss: 0.191003, acc.: 92.97%] [G loss: 4.433743]\n",
            "114 [D loss: 0.191387, acc.: 91.41%] [G loss: 3.820358]\n",
            "115 [D loss: 0.209860, acc.: 92.19%] [G loss: 3.370173]\n",
            "116 [D loss: 0.245483, acc.: 90.62%] [G loss: 4.045918]\n",
            "117 [D loss: 0.343215, acc.: 78.12%] [G loss: 4.136595]\n",
            "118 [D loss: 0.387938, acc.: 79.69%] [G loss: 3.411947]\n",
            "119 [D loss: 0.220424, acc.: 89.84%] [G loss: 3.809382]\n",
            "120 [D loss: 0.280203, acc.: 84.38%] [G loss: 3.529439]\n",
            "121 [D loss: 0.170385, acc.: 94.53%] [G loss: 3.749709]\n",
            "122 [D loss: 0.427630, acc.: 74.22%] [G loss: 3.936495]\n",
            "123 [D loss: 0.260206, acc.: 89.84%] [G loss: 3.442815]\n",
            "124 [D loss: 0.211858, acc.: 90.62%] [G loss: 3.913584]\n",
            "125 [D loss: 0.252392, acc.: 89.84%] [G loss: 3.478331]\n",
            "126 [D loss: 0.420800, acc.: 75.78%] [G loss: 3.922435]\n",
            "127 [D loss: 0.319563, acc.: 84.38%] [G loss: 4.069223]\n",
            "128 [D loss: 0.235951, acc.: 88.28%] [G loss: 3.909162]\n",
            "129 [D loss: 0.213717, acc.: 92.97%] [G loss: 4.255169]\n",
            "130 [D loss: 0.319687, acc.: 82.81%] [G loss: 3.469344]\n",
            "131 [D loss: 0.164729, acc.: 96.88%] [G loss: 4.395084]\n",
            "132 [D loss: 0.444695, acc.: 75.78%] [G loss: 3.682989]\n",
            "133 [D loss: 0.237172, acc.: 86.72%] [G loss: 4.463383]\n",
            "134 [D loss: 0.271586, acc.: 85.16%] [G loss: 3.716751]\n",
            "135 [D loss: 0.190543, acc.: 94.53%] [G loss: 3.633994]\n",
            "136 [D loss: 0.293625, acc.: 83.59%] [G loss: 4.025099]\n",
            "137 [D loss: 0.382061, acc.: 82.03%] [G loss: 3.343510]\n",
            "138 [D loss: 0.170798, acc.: 92.97%] [G loss: 4.114707]\n",
            "139 [D loss: 0.363058, acc.: 83.59%] [G loss: 3.711997]\n",
            "140 [D loss: 0.287368, acc.: 85.16%] [G loss: 3.347027]\n",
            "141 [D loss: 0.254360, acc.: 90.62%] [G loss: 3.757488]\n",
            "142 [D loss: 0.377583, acc.: 80.47%] [G loss: 4.278273]\n",
            "143 [D loss: 0.802048, acc.: 57.03%] [G loss: 2.889724]\n",
            "144 [D loss: 0.246705, acc.: 86.72%] [G loss: 3.839399]\n",
            "145 [D loss: 0.305729, acc.: 85.16%] [G loss: 3.272895]\n",
            "146 [D loss: 0.246494, acc.: 93.75%] [G loss: 3.577521]\n",
            "147 [D loss: 0.330681, acc.: 84.38%] [G loss: 3.370449]\n",
            "148 [D loss: 0.479727, acc.: 71.88%] [G loss: 3.643300]\n",
            "149 [D loss: 0.364487, acc.: 81.25%] [G loss: 3.665253]\n",
            "150 [D loss: 0.379191, acc.: 78.91%] [G loss: 5.452957]\n",
            "151 [D loss: 2.884912, acc.: 13.28%] [G loss: 1.776823]\n",
            "152 [D loss: 1.929083, acc.: 51.56%] [G loss: 0.293793]\n",
            "153 [D loss: 0.714952, acc.: 66.41%] [G loss: 1.977479]\n",
            "154 [D loss: 0.260831, acc.: 90.62%] [G loss: 2.503165]\n",
            "155 [D loss: 0.731203, acc.: 57.03%] [G loss: 1.292572]\n",
            "156 [D loss: 0.371136, acc.: 79.69%] [G loss: 1.901168]\n",
            "157 [D loss: 0.267610, acc.: 90.62%] [G loss: 2.594218]\n",
            "158 [D loss: 0.301199, acc.: 92.19%] [G loss: 2.795090]\n",
            "159 [D loss: 0.265792, acc.: 92.19%] [G loss: 2.390075]\n",
            "160 [D loss: 0.246069, acc.: 93.75%] [G loss: 2.279266]\n",
            "161 [D loss: 0.234097, acc.: 92.97%] [G loss: 2.591419]\n",
            "162 [D loss: 0.354891, acc.: 84.38%] [G loss: 2.636292]\n",
            "163 [D loss: 0.432438, acc.: 75.78%] [G loss: 2.285998]\n",
            "164 [D loss: 0.282965, acc.: 90.62%] [G loss: 2.755250]\n",
            "165 [D loss: 0.407371, acc.: 80.47%] [G loss: 2.335083]\n",
            "166 [D loss: 0.334043, acc.: 86.72%] [G loss: 2.548933]\n",
            "167 [D loss: 0.458481, acc.: 74.22%] [G loss: 2.794292]\n",
            "168 [D loss: 0.357093, acc.: 79.69%] [G loss: 2.501010]\n",
            "169 [D loss: 0.407202, acc.: 82.03%] [G loss: 2.656712]\n",
            "170 [D loss: 0.390100, acc.: 81.25%] [G loss: 2.548215]\n",
            "171 [D loss: 0.330842, acc.: 79.69%] [G loss: 3.619975]\n",
            "172 [D loss: 1.484351, acc.: 15.62%] [G loss: 0.449602]\n",
            "173 [D loss: 0.888162, acc.: 52.34%] [G loss: 1.057000]\n",
            "174 [D loss: 0.322064, acc.: 85.16%] [G loss: 2.960237]\n",
            "175 [D loss: 0.374924, acc.: 83.59%] [G loss: 2.260447]\n",
            "176 [D loss: 0.367128, acc.: 81.25%] [G loss: 2.322350]\n",
            "177 [D loss: 0.320676, acc.: 89.84%] [G loss: 2.527359]\n",
            "178 [D loss: 0.375435, acc.: 80.47%] [G loss: 2.443970]\n",
            "179 [D loss: 0.500133, acc.: 71.88%] [G loss: 2.149783]\n",
            "180 [D loss: 0.359067, acc.: 86.72%] [G loss: 2.759561]\n",
            "181 [D loss: 0.518446, acc.: 68.75%] [G loss: 2.121142]\n",
            "182 [D loss: 0.333638, acc.: 89.06%] [G loss: 2.840578]\n",
            "183 [D loss: 0.535784, acc.: 70.31%] [G loss: 1.876198]\n",
            "184 [D loss: 0.293241, acc.: 88.28%] [G loss: 2.957365]\n",
            "185 [D loss: 0.631663, acc.: 58.59%] [G loss: 1.894775]\n",
            "186 [D loss: 0.342947, acc.: 85.94%] [G loss: 3.007723]\n",
            "187 [D loss: 0.640797, acc.: 60.16%] [G loss: 2.050269]\n",
            "188 [D loss: 0.266137, acc.: 92.19%] [G loss: 2.863731]\n",
            "189 [D loss: 0.684255, acc.: 57.81%] [G loss: 1.742700]\n",
            "190 [D loss: 0.330791, acc.: 88.28%] [G loss: 2.815774]\n",
            "191 [D loss: 0.544679, acc.: 69.53%] [G loss: 2.248460]\n",
            "192 [D loss: 0.414150, acc.: 83.59%] [G loss: 2.537477]\n",
            "193 [D loss: 0.479821, acc.: 76.56%] [G loss: 2.891510]\n",
            "194 [D loss: 0.679728, acc.: 56.25%] [G loss: 1.679657]\n",
            "195 [D loss: 0.423112, acc.: 77.34%] [G loss: 3.065765]\n",
            "196 [D loss: 0.899828, acc.: 33.59%] [G loss: 1.297684]\n",
            "197 [D loss: 0.346734, acc.: 88.28%] [G loss: 2.716782]\n",
            "198 [D loss: 0.764316, acc.: 46.09%] [G loss: 1.312982]\n",
            "199 [D loss: 0.369754, acc.: 86.72%] [G loss: 2.910761]\n",
            "200 [D loss: 0.517446, acc.: 74.22%] [G loss: 1.846405]\n",
            "201 [D loss: 0.325530, acc.: 90.62%] [G loss: 2.923410]\n",
            "202 [D loss: 0.432006, acc.: 77.34%] [G loss: 2.190621]\n",
            "203 [D loss: 0.460852, acc.: 75.78%] [G loss: 2.865652]\n",
            "204 [D loss: 0.803289, acc.: 45.31%] [G loss: 1.451895]\n",
            "205 [D loss: 0.350058, acc.: 90.62%] [G loss: 2.715242]\n",
            "206 [D loss: 0.752311, acc.: 49.22%] [G loss: 1.667760]\n",
            "207 [D loss: 0.421849, acc.: 81.25%] [G loss: 2.969782]\n",
            "208 [D loss: 1.362080, acc.: 18.75%] [G loss: 0.564484]\n",
            "209 [D loss: 0.661851, acc.: 51.56%] [G loss: 1.510649]\n",
            "210 [D loss: 0.559483, acc.: 73.44%] [G loss: 1.775134]\n",
            "211 [D loss: 0.591343, acc.: 64.84%] [G loss: 1.578156]\n",
            "212 [D loss: 0.480140, acc.: 76.56%] [G loss: 2.307690]\n",
            "213 [D loss: 0.635057, acc.: 59.38%] [G loss: 1.333508]\n",
            "214 [D loss: 0.481832, acc.: 74.22%] [G loss: 2.353993]\n",
            "215 [D loss: 0.761943, acc.: 44.53%] [G loss: 1.413743]\n",
            "216 [D loss: 0.387589, acc.: 88.28%] [G loss: 2.296273]\n",
            "217 [D loss: 0.934258, acc.: 28.12%] [G loss: 0.908084]\n",
            "218 [D loss: 0.489227, acc.: 67.97%] [G loss: 2.026550]\n",
            "219 [D loss: 0.782976, acc.: 43.75%] [G loss: 1.444913]\n",
            "220 [D loss: 0.475116, acc.: 80.47%] [G loss: 2.075317]\n",
            "221 [D loss: 0.767973, acc.: 39.06%] [G loss: 1.195115]\n",
            "222 [D loss: 0.474898, acc.: 75.00%] [G loss: 2.208518]\n",
            "223 [D loss: 0.902241, acc.: 34.38%] [G loss: 0.856737]\n",
            "224 [D loss: 0.557592, acc.: 60.94%] [G loss: 1.860520]\n",
            "225 [D loss: 0.782741, acc.: 42.97%] [G loss: 1.237707]\n",
            "226 [D loss: 0.557022, acc.: 65.62%] [G loss: 2.038420]\n",
            "227 [D loss: 0.844899, acc.: 37.50%] [G loss: 0.867145]\n",
            "228 [D loss: 0.475227, acc.: 71.09%] [G loss: 1.670743]\n",
            "229 [D loss: 0.713479, acc.: 51.56%] [G loss: 1.263478]\n",
            "230 [D loss: 0.520342, acc.: 76.56%] [G loss: 1.883262]\n",
            "231 [D loss: 0.632671, acc.: 56.25%] [G loss: 1.430965]\n",
            "232 [D loss: 0.499376, acc.: 75.00%] [G loss: 2.023252]\n",
            "233 [D loss: 0.836173, acc.: 36.72%] [G loss: 1.104719]\n",
            "234 [D loss: 0.479142, acc.: 75.78%] [G loss: 1.813086]\n",
            "235 [D loss: 0.780741, acc.: 42.19%] [G loss: 1.144705]\n",
            "236 [D loss: 0.561950, acc.: 64.84%] [G loss: 1.818342]\n",
            "237 [D loss: 0.880398, acc.: 33.59%] [G loss: 0.929661]\n",
            "238 [D loss: 0.541839, acc.: 64.84%] [G loss: 1.769584]\n",
            "239 [D loss: 1.080842, acc.: 13.28%] [G loss: 0.685148]\n",
            "240 [D loss: 0.608125, acc.: 53.91%] [G loss: 1.193522]\n",
            "241 [D loss: 0.814955, acc.: 35.94%] [G loss: 1.004610]\n",
            "242 [D loss: 0.589948, acc.: 65.62%] [G loss: 1.328979]\n",
            "243 [D loss: 0.734225, acc.: 42.97%] [G loss: 0.849946]\n",
            "244 [D loss: 0.559457, acc.: 60.94%] [G loss: 1.205365]\n",
            "245 [D loss: 0.706942, acc.: 46.09%] [G loss: 1.176508]\n",
            "246 [D loss: 0.649336, acc.: 57.81%] [G loss: 1.355922]\n",
            "247 [D loss: 0.774204, acc.: 39.06%] [G loss: 0.966252]\n",
            "248 [D loss: 0.595191, acc.: 59.38%] [G loss: 1.349602]\n",
            "249 [D loss: 0.737492, acc.: 43.75%] [G loss: 1.026562]\n",
            "250 [D loss: 0.584154, acc.: 64.84%] [G loss: 1.347866]\n",
            "251 [D loss: 0.675529, acc.: 51.56%] [G loss: 1.443638]\n",
            "252 [D loss: 0.690401, acc.: 53.12%] [G loss: 1.005677]\n",
            "253 [D loss: 0.649141, acc.: 53.12%] [G loss: 1.231756]\n",
            "254 [D loss: 0.679567, acc.: 51.56%] [G loss: 1.234127]\n",
            "255 [D loss: 0.684241, acc.: 54.69%] [G loss: 1.309382]\n",
            "256 [D loss: 0.749781, acc.: 37.50%] [G loss: 1.078035]\n",
            "257 [D loss: 0.684287, acc.: 57.03%] [G loss: 1.169266]\n",
            "258 [D loss: 0.680338, acc.: 53.12%] [G loss: 1.123737]\n",
            "259 [D loss: 0.692408, acc.: 50.78%] [G loss: 1.025345]\n",
            "260 [D loss: 0.661394, acc.: 49.22%] [G loss: 1.222944]\n",
            "261 [D loss: 0.708471, acc.: 44.53%] [G loss: 1.121468]\n",
            "262 [D loss: 0.651353, acc.: 53.12%] [G loss: 1.227698]\n",
            "263 [D loss: 0.731308, acc.: 50.00%] [G loss: 1.169742]\n",
            "264 [D loss: 0.704280, acc.: 46.09%] [G loss: 1.086901]\n",
            "265 [D loss: 0.688866, acc.: 49.22%] [G loss: 1.141325]\n",
            "266 [D loss: 0.730946, acc.: 44.53%] [G loss: 1.042231]\n",
            "267 [D loss: 0.725390, acc.: 46.88%] [G loss: 1.195735]\n",
            "268 [D loss: 0.730943, acc.: 44.53%] [G loss: 1.055736]\n",
            "269 [D loss: 0.673900, acc.: 53.91%] [G loss: 1.107687]\n",
            "270 [D loss: 0.761026, acc.: 38.28%] [G loss: 1.061564]\n",
            "271 [D loss: 0.734666, acc.: 41.41%] [G loss: 0.942039]\n",
            "272 [D loss: 0.672543, acc.: 50.00%] [G loss: 1.006676]\n",
            "273 [D loss: 0.701440, acc.: 48.44%] [G loss: 1.015778]\n",
            "274 [D loss: 0.722338, acc.: 43.75%] [G loss: 0.963053]\n",
            "275 [D loss: 0.630037, acc.: 59.38%] [G loss: 1.090140]\n",
            "276 [D loss: 0.701429, acc.: 51.56%] [G loss: 1.045418]\n",
            "277 [D loss: 0.661198, acc.: 54.69%] [G loss: 1.177906]\n",
            "278 [D loss: 0.681572, acc.: 53.91%] [G loss: 1.029894]\n",
            "279 [D loss: 0.675912, acc.: 50.78%] [G loss: 0.971601]\n",
            "280 [D loss: 0.694288, acc.: 52.34%] [G loss: 1.181035]\n",
            "281 [D loss: 0.686375, acc.: 54.69%] [G loss: 1.083384]\n",
            "282 [D loss: 0.736360, acc.: 43.75%] [G loss: 0.857702]\n",
            "283 [D loss: 0.682065, acc.: 51.56%] [G loss: 1.043949]\n",
            "284 [D loss: 0.689662, acc.: 53.12%] [G loss: 0.990994]\n",
            "285 [D loss: 0.694546, acc.: 47.66%] [G loss: 0.956233]\n",
            "286 [D loss: 0.692885, acc.: 47.66%] [G loss: 1.081514]\n",
            "287 [D loss: 0.714241, acc.: 50.00%] [G loss: 1.007717]\n",
            "288 [D loss: 0.706420, acc.: 45.31%] [G loss: 1.130523]\n",
            "289 [D loss: 0.707085, acc.: 49.22%] [G loss: 1.007796]\n",
            "290 [D loss: 0.683913, acc.: 55.47%] [G loss: 1.055639]\n",
            "291 [D loss: 0.721108, acc.: 42.19%] [G loss: 1.062085]\n",
            "292 [D loss: 0.724665, acc.: 48.44%] [G loss: 0.977360]\n",
            "293 [D loss: 0.741141, acc.: 37.50%] [G loss: 1.024424]\n",
            "294 [D loss: 0.695499, acc.: 52.34%] [G loss: 0.920218]\n",
            "295 [D loss: 0.702821, acc.: 53.91%] [G loss: 1.078614]\n",
            "296 [D loss: 0.746876, acc.: 42.97%] [G loss: 0.900885]\n",
            "297 [D loss: 0.660327, acc.: 52.34%] [G loss: 0.919525]\n",
            "298 [D loss: 0.699726, acc.: 49.22%] [G loss: 1.009178]\n",
            "299 [D loss: 0.724555, acc.: 46.88%] [G loss: 0.965518]\n",
            "300 [D loss: 0.718031, acc.: 48.44%] [G loss: 0.920304]\n",
            "301 [D loss: 0.698784, acc.: 46.09%] [G loss: 0.923827]\n",
            "302 [D loss: 0.683900, acc.: 54.69%] [G loss: 0.868098]\n",
            "303 [D loss: 0.688108, acc.: 52.34%] [G loss: 1.002968]\n",
            "304 [D loss: 0.714711, acc.: 50.78%] [G loss: 0.913074]\n",
            "305 [D loss: 0.682270, acc.: 48.44%] [G loss: 0.928910]\n",
            "306 [D loss: 0.726001, acc.: 43.75%] [G loss: 0.979561]\n",
            "307 [D loss: 0.701683, acc.: 46.88%] [G loss: 0.952134]\n",
            "308 [D loss: 0.682602, acc.: 52.34%] [G loss: 0.925376]\n",
            "309 [D loss: 0.691742, acc.: 50.78%] [G loss: 0.894652]\n",
            "310 [D loss: 0.682405, acc.: 50.00%] [G loss: 0.833135]\n",
            "311 [D loss: 0.672627, acc.: 54.69%] [G loss: 0.913513]\n",
            "312 [D loss: 0.644114, acc.: 56.25%] [G loss: 1.005222]\n",
            "313 [D loss: 0.741815, acc.: 39.84%] [G loss: 0.918567]\n",
            "314 [D loss: 0.733171, acc.: 39.06%] [G loss: 0.941916]\n",
            "315 [D loss: 0.758678, acc.: 38.28%] [G loss: 0.891548]\n",
            "316 [D loss: 0.729993, acc.: 43.75%] [G loss: 0.856117]\n",
            "317 [D loss: 0.727888, acc.: 42.19%] [G loss: 0.853103]\n",
            "318 [D loss: 0.711096, acc.: 47.66%] [G loss: 0.893928]\n",
            "319 [D loss: 0.691828, acc.: 50.00%] [G loss: 0.831154]\n",
            "320 [D loss: 0.710411, acc.: 48.44%] [G loss: 0.794181]\n",
            "321 [D loss: 0.645410, acc.: 57.03%] [G loss: 0.945487]\n",
            "322 [D loss: 0.749164, acc.: 40.62%] [G loss: 0.793208]\n",
            "323 [D loss: 0.716488, acc.: 46.88%] [G loss: 0.807653]\n",
            "324 [D loss: 0.707851, acc.: 46.88%] [G loss: 0.869280]\n",
            "325 [D loss: 0.738725, acc.: 40.62%] [G loss: 0.921579]\n",
            "326 [D loss: 0.752858, acc.: 35.94%] [G loss: 0.906413]\n",
            "327 [D loss: 0.726683, acc.: 39.84%] [G loss: 0.886767]\n",
            "328 [D loss: 0.746911, acc.: 35.94%] [G loss: 0.843844]\n",
            "329 [D loss: 0.731017, acc.: 39.06%] [G loss: 0.841001]\n",
            "330 [D loss: 0.714598, acc.: 39.06%] [G loss: 0.814986]\n",
            "331 [D loss: 0.700955, acc.: 45.31%] [G loss: 0.873763]\n",
            "332 [D loss: 0.707534, acc.: 45.31%] [G loss: 0.836423]\n",
            "333 [D loss: 0.751869, acc.: 32.03%] [G loss: 0.755479]\n",
            "334 [D loss: 0.707853, acc.: 42.97%] [G loss: 0.780266]\n",
            "335 [D loss: 0.692741, acc.: 45.31%] [G loss: 0.802070]\n",
            "336 [D loss: 0.676867, acc.: 49.22%] [G loss: 0.885292]\n",
            "337 [D loss: 0.761771, acc.: 29.69%] [G loss: 0.818238]\n",
            "338 [D loss: 0.711898, acc.: 41.41%] [G loss: 0.844769]\n",
            "339 [D loss: 0.728171, acc.: 36.72%] [G loss: 0.779602]\n",
            "340 [D loss: 0.687772, acc.: 46.09%] [G loss: 0.768488]\n",
            "341 [D loss: 0.694090, acc.: 46.88%] [G loss: 0.745355]\n",
            "342 [D loss: 0.707768, acc.: 42.19%] [G loss: 0.775625]\n",
            "343 [D loss: 0.723891, acc.: 39.06%] [G loss: 0.832617]\n",
            "344 [D loss: 0.705550, acc.: 44.53%] [G loss: 0.798976]\n",
            "345 [D loss: 0.698618, acc.: 42.97%] [G loss: 0.772424]\n",
            "346 [D loss: 0.718179, acc.: 39.06%] [G loss: 0.809808]\n",
            "347 [D loss: 0.687405, acc.: 48.44%] [G loss: 0.853239]\n",
            "348 [D loss: 0.743947, acc.: 31.25%] [G loss: 0.848252]\n",
            "349 [D loss: 0.721449, acc.: 40.62%] [G loss: 0.772000]\n",
            "350 [D loss: 0.707801, acc.: 43.75%] [G loss: 0.767141]\n",
            "351 [D loss: 0.699936, acc.: 46.09%] [G loss: 0.807944]\n",
            "352 [D loss: 0.725929, acc.: 34.38%] [G loss: 0.820358]\n",
            "353 [D loss: 0.737924, acc.: 35.94%] [G loss: 0.815008]\n",
            "354 [D loss: 0.740377, acc.: 32.81%] [G loss: 0.776143]\n",
            "355 [D loss: 0.721302, acc.: 45.31%] [G loss: 0.754811]\n",
            "356 [D loss: 0.724044, acc.: 35.94%] [G loss: 0.761020]\n",
            "357 [D loss: 0.688316, acc.: 53.12%] [G loss: 0.739739]\n",
            "358 [D loss: 0.717963, acc.: 35.94%] [G loss: 0.797424]\n",
            "359 [D loss: 0.693174, acc.: 50.78%] [G loss: 0.750707]\n",
            "360 [D loss: 0.725965, acc.: 39.84%] [G loss: 0.763430]\n",
            "361 [D loss: 0.708167, acc.: 42.97%] [G loss: 0.737530]\n",
            "362 [D loss: 0.689792, acc.: 44.53%] [G loss: 0.739811]\n",
            "363 [D loss: 0.703493, acc.: 42.97%] [G loss: 0.768294]\n",
            "364 [D loss: 0.706108, acc.: 46.88%] [G loss: 0.775516]\n",
            "365 [D loss: 0.719899, acc.: 43.75%] [G loss: 0.745819]\n",
            "366 [D loss: 0.697653, acc.: 42.19%] [G loss: 0.741455]\n",
            "367 [D loss: 0.697244, acc.: 45.31%] [G loss: 0.740486]\n",
            "368 [D loss: 0.689592, acc.: 47.66%] [G loss: 0.754237]\n",
            "369 [D loss: 0.709377, acc.: 42.19%] [G loss: 0.772964]\n",
            "370 [D loss: 0.691953, acc.: 50.78%] [G loss: 0.750267]\n",
            "371 [D loss: 0.715866, acc.: 42.97%] [G loss: 0.749056]\n",
            "372 [D loss: 0.693466, acc.: 46.88%] [G loss: 0.776408]\n",
            "373 [D loss: 0.681069, acc.: 49.22%] [G loss: 0.781457]\n",
            "374 [D loss: 0.706362, acc.: 44.53%] [G loss: 0.776387]\n",
            "375 [D loss: 0.717996, acc.: 39.06%] [G loss: 0.797578]\n",
            "376 [D loss: 0.727374, acc.: 42.19%] [G loss: 0.760963]\n",
            "377 [D loss: 0.716036, acc.: 43.75%] [G loss: 0.734809]\n",
            "378 [D loss: 0.687505, acc.: 46.88%] [G loss: 0.774896]\n",
            "379 [D loss: 0.680759, acc.: 53.12%] [G loss: 0.754463]\n",
            "380 [D loss: 0.703253, acc.: 45.31%] [G loss: 0.736287]\n",
            "381 [D loss: 0.688288, acc.: 48.44%] [G loss: 0.750270]\n",
            "382 [D loss: 0.650056, acc.: 53.91%] [G loss: 0.771399]\n",
            "383 [D loss: 0.710251, acc.: 39.06%] [G loss: 0.790998]\n",
            "384 [D loss: 0.684406, acc.: 49.22%] [G loss: 0.788115]\n",
            "385 [D loss: 0.725397, acc.: 41.41%] [G loss: 0.746250]\n",
            "386 [D loss: 0.715275, acc.: 42.19%] [G loss: 0.736996]\n",
            "387 [D loss: 0.704433, acc.: 39.84%] [G loss: 0.765316]\n",
            "388 [D loss: 0.710212, acc.: 42.97%] [G loss: 0.781194]\n",
            "389 [D loss: 0.707909, acc.: 44.53%] [G loss: 0.758607]\n",
            "390 [D loss: 0.734428, acc.: 36.72%] [G loss: 0.736917]\n",
            "391 [D loss: 0.703046, acc.: 42.97%] [G loss: 0.760604]\n",
            "392 [D loss: 0.710576, acc.: 43.75%] [G loss: 0.804794]\n",
            "393 [D loss: 0.709866, acc.: 47.66%] [G loss: 0.821540]\n",
            "394 [D loss: 0.725329, acc.: 38.28%] [G loss: 0.781706]\n",
            "395 [D loss: 0.726918, acc.: 39.84%] [G loss: 0.762843]\n",
            "396 [D loss: 0.715982, acc.: 44.53%] [G loss: 0.741984]\n",
            "397 [D loss: 0.711461, acc.: 38.28%] [G loss: 0.766793]\n",
            "398 [D loss: 0.714224, acc.: 42.97%] [G loss: 0.789926]\n",
            "399 [D loss: 0.709530, acc.: 42.19%] [G loss: 0.740377]\n",
            "400 [D loss: 0.702543, acc.: 42.19%] [G loss: 0.731846]\n",
            "401 [D loss: 0.694472, acc.: 48.44%] [G loss: 0.713015]\n",
            "402 [D loss: 0.720685, acc.: 35.94%] [G loss: 0.758707]\n",
            "403 [D loss: 0.694582, acc.: 43.75%] [G loss: 0.758308]\n",
            "404 [D loss: 0.729406, acc.: 36.72%] [G loss: 0.731540]\n",
            "405 [D loss: 0.703686, acc.: 40.62%] [G loss: 0.743023]\n",
            "406 [D loss: 0.709886, acc.: 35.16%] [G loss: 0.752872]\n",
            "407 [D loss: 0.722184, acc.: 42.19%] [G loss: 0.759212]\n",
            "408 [D loss: 0.708222, acc.: 42.19%] [G loss: 0.741839]\n",
            "409 [D loss: 0.718662, acc.: 39.84%] [G loss: 0.715902]\n",
            "410 [D loss: 0.693424, acc.: 46.88%] [G loss: 0.749157]\n",
            "411 [D loss: 0.683177, acc.: 50.00%] [G loss: 0.757753]\n",
            "412 [D loss: 0.732168, acc.: 37.50%] [G loss: 0.736805]\n",
            "413 [D loss: 0.724040, acc.: 38.28%] [G loss: 0.761042]\n",
            "414 [D loss: 0.720291, acc.: 38.28%] [G loss: 0.759909]\n",
            "415 [D loss: 0.718866, acc.: 42.97%] [G loss: 0.774225]\n",
            "416 [D loss: 0.737970, acc.: 35.16%] [G loss: 0.751139]\n",
            "417 [D loss: 0.720098, acc.: 37.50%] [G loss: 0.735058]\n",
            "418 [D loss: 0.702660, acc.: 39.84%] [G loss: 0.770317]\n",
            "419 [D loss: 0.735392, acc.: 31.25%] [G loss: 0.741095]\n",
            "420 [D loss: 0.704120, acc.: 43.75%] [G loss: 0.748293]\n",
            "421 [D loss: 0.710497, acc.: 44.53%] [G loss: 0.733486]\n",
            "422 [D loss: 0.704539, acc.: 41.41%] [G loss: 0.738228]\n",
            "423 [D loss: 0.722826, acc.: 38.28%] [G loss: 0.759303]\n",
            "424 [D loss: 0.714344, acc.: 42.97%] [G loss: 0.759419]\n",
            "425 [D loss: 0.723489, acc.: 38.28%] [G loss: 0.736272]\n",
            "426 [D loss: 0.722445, acc.: 35.16%] [G loss: 0.728142]\n",
            "427 [D loss: 0.721176, acc.: 37.50%] [G loss: 0.736453]\n",
            "428 [D loss: 0.703031, acc.: 42.97%] [G loss: 0.717124]\n",
            "429 [D loss: 0.729663, acc.: 38.28%] [G loss: 0.721608]\n",
            "430 [D loss: 0.719250, acc.: 38.28%] [G loss: 0.731511]\n",
            "431 [D loss: 0.735387, acc.: 35.16%] [G loss: 0.722880]\n",
            "432 [D loss: 0.712769, acc.: 46.09%] [G loss: 0.728781]\n",
            "433 [D loss: 0.719914, acc.: 38.28%] [G loss: 0.711651]\n",
            "434 [D loss: 0.713791, acc.: 44.53%] [G loss: 0.726538]\n",
            "435 [D loss: 0.722360, acc.: 38.28%] [G loss: 0.766370]\n",
            "436 [D loss: 0.729415, acc.: 41.41%] [G loss: 0.762059]\n",
            "437 [D loss: 0.711475, acc.: 45.31%] [G loss: 0.732307]\n",
            "438 [D loss: 0.733653, acc.: 39.06%] [G loss: 0.733869]\n",
            "439 [D loss: 0.692285, acc.: 49.22%] [G loss: 0.738324]\n",
            "440 [D loss: 0.700660, acc.: 46.88%] [G loss: 0.765998]\n",
            "441 [D loss: 0.727318, acc.: 35.94%] [G loss: 0.755463]\n",
            "442 [D loss: 0.736837, acc.: 32.81%] [G loss: 0.774893]\n",
            "443 [D loss: 0.718748, acc.: 42.19%] [G loss: 0.758088]\n",
            "444 [D loss: 0.734115, acc.: 34.38%] [G loss: 0.741416]\n",
            "445 [D loss: 0.727820, acc.: 36.72%] [G loss: 0.747552]\n",
            "446 [D loss: 0.730973, acc.: 33.59%] [G loss: 0.716893]\n",
            "447 [D loss: 0.722757, acc.: 40.62%] [G loss: 0.752726]\n",
            "448 [D loss: 0.723599, acc.: 40.62%] [G loss: 0.725281]\n",
            "449 [D loss: 0.722950, acc.: 36.72%] [G loss: 0.732185]\n",
            "450 [D loss: 0.728188, acc.: 39.06%] [G loss: 0.729255]\n",
            "451 [D loss: 0.724742, acc.: 39.84%] [G loss: 0.740669]\n",
            "452 [D loss: 0.714299, acc.: 41.41%] [G loss: 0.737926]\n",
            "453 [D loss: 0.735505, acc.: 30.47%] [G loss: 0.748859]\n",
            "454 [D loss: 0.720761, acc.: 44.53%] [G loss: 0.738673]\n",
            "455 [D loss: 0.720204, acc.: 39.84%] [G loss: 0.760879]\n",
            "456 [D loss: 0.733497, acc.: 34.38%] [G loss: 0.746817]\n",
            "457 [D loss: 0.712956, acc.: 42.97%] [G loss: 0.724743]\n",
            "458 [D loss: 0.718904, acc.: 40.62%] [G loss: 0.750362]\n",
            "459 [D loss: 0.727002, acc.: 38.28%] [G loss: 0.729148]\n",
            "460 [D loss: 0.714055, acc.: 41.41%] [G loss: 0.744478]\n",
            "461 [D loss: 0.735313, acc.: 32.81%] [G loss: 0.736460]\n",
            "462 [D loss: 0.717325, acc.: 43.75%] [G loss: 0.712224]\n",
            "463 [D loss: 0.716280, acc.: 39.06%] [G loss: 0.723894]\n",
            "464 [D loss: 0.714217, acc.: 40.62%] [G loss: 0.715363]\n",
            "465 [D loss: 0.716626, acc.: 40.62%] [G loss: 0.719693]\n",
            "466 [D loss: 0.713694, acc.: 42.19%] [G loss: 0.752480]\n",
            "467 [D loss: 0.718902, acc.: 40.62%] [G loss: 0.734601]\n",
            "468 [D loss: 0.726028, acc.: 38.28%] [G loss: 0.727544]\n",
            "469 [D loss: 0.712662, acc.: 36.72%] [G loss: 0.730542]\n",
            "470 [D loss: 0.722352, acc.: 33.59%] [G loss: 0.753108]\n",
            "471 [D loss: 0.704139, acc.: 46.09%] [G loss: 0.757856]\n",
            "472 [D loss: 0.733062, acc.: 33.59%] [G loss: 0.773983]\n",
            "473 [D loss: 0.729371, acc.: 36.72%] [G loss: 0.758369]\n",
            "474 [D loss: 0.722149, acc.: 41.41%] [G loss: 0.751312]\n",
            "475 [D loss: 0.701688, acc.: 50.00%] [G loss: 0.720245]\n",
            "476 [D loss: 0.706947, acc.: 42.19%] [G loss: 0.725557]\n",
            "477 [D loss: 0.716470, acc.: 38.28%] [G loss: 0.733210]\n",
            "478 [D loss: 0.713677, acc.: 40.62%] [G loss: 0.754363]\n",
            "479 [D loss: 0.725457, acc.: 35.94%] [G loss: 0.776787]\n",
            "480 [D loss: 0.736426, acc.: 31.25%] [G loss: 0.728598]\n",
            "481 [D loss: 0.720305, acc.: 42.97%] [G loss: 0.734771]\n",
            "482 [D loss: 0.727607, acc.: 39.06%] [G loss: 0.724978]\n",
            "483 [D loss: 0.707774, acc.: 42.97%] [G loss: 0.738889]\n",
            "484 [D loss: 0.712335, acc.: 35.94%] [G loss: 0.733008]\n",
            "485 [D loss: 0.715408, acc.: 46.09%] [G loss: 0.724183]\n",
            "486 [D loss: 0.704944, acc.: 41.41%] [G loss: 0.721825]\n",
            "487 [D loss: 0.704704, acc.: 42.19%] [G loss: 0.744865]\n",
            "488 [D loss: 0.707354, acc.: 43.75%] [G loss: 0.728138]\n",
            "489 [D loss: 0.731226, acc.: 32.81%] [G loss: 0.744849]\n",
            "490 [D loss: 0.714145, acc.: 37.50%] [G loss: 0.766226]\n",
            "491 [D loss: 0.727077, acc.: 32.03%] [G loss: 0.781944]\n",
            "492 [D loss: 0.730255, acc.: 35.16%] [G loss: 0.791111]\n",
            "493 [D loss: 0.741791, acc.: 25.00%] [G loss: 0.750532]\n",
            "494 [D loss: 0.705331, acc.: 44.53%] [G loss: 0.746350]\n",
            "495 [D loss: 0.719350, acc.: 42.19%] [G loss: 0.718090]\n",
            "496 [D loss: 0.731198, acc.: 29.69%] [G loss: 0.716043]\n",
            "497 [D loss: 0.732135, acc.: 33.59%] [G loss: 0.739047]\n",
            "498 [D loss: 0.721710, acc.: 32.03%] [G loss: 0.760159]\n",
            "499 [D loss: 0.720514, acc.: 37.50%] [G loss: 0.754115]\n"
          ],
          "name": "stdout"
        }
      ]
    },
    {
      "cell_type": "code",
      "metadata": {
        "id": "POfy48ScxXIr",
        "colab_type": "code",
        "colab": {
          "base_uri": "https://localhost:8080/",
          "height": 287
        },
        "outputId": "fd4003f2-4f59-41f0-8234-9b3a21b5afde"
      },
      "source": [
        "noise = tf.random.normal([1, latent_dim])\n",
        "gen_imgs = generator.predict(noise)\n",
        "plt.imshow(gen_imgs[0, :, :, 0])"
      ],
      "execution_count": 64,
      "outputs": [
        {
          "output_type": "execute_result",
          "data": {
            "text/plain": [
              "<matplotlib.image.AxesImage at 0x7f3f85162c50>"
            ]
          },
          "metadata": {
            "tags": []
          },
          "execution_count": 64
        },
        {
          "output_type": "display_data",
          "data": {
            "image/png": "[encoded data removed]",
            "text/plain": [
              "<Figure size 432x288 with 1 Axes>"
            ]
          },
          "metadata": {
            "tags": []
          }
        }
      ]
    }
  ]
}